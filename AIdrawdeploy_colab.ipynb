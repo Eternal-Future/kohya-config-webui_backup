{
  "cells": [
    {
      "cell_type": "markdown",
      "metadata": {
        "id": "vSRSpevIWwZ_"
      },
      "source": [
        "# AI绘画部署 - Colab\n",
        "stable diffusion webui"
      ]
    },
    {
      "cell_type": "markdown",
      "metadata": {
        "id": "yhy_3PVW9qnG"
      },
      "source": [
        "## 主程序\n",
        "\n",
        "防挂代码\n",
        "```\n",
        "function ConnectButton(){\n",
        "  console.log(\"Connect pushed\"); \n",
        "  document.querySelector(\"#top-toolbar > colab-connect-button\").shadowRoot.querySelector(\"#connect\").click() \n",
        "}\n",
        "setInterval(ConnectButton,60000);\n",
        "```"
      ]
    },
    {
      "cell_type": "markdown",
      "source": [
        "三十自用云端部署文件，假如没有基础，那么，上传colab，点击下方第二条代码框，按住 ctrl+f10 即可部署sd，最后点击给出的链接即可跳转webui。\n",
        "要是会那自己折腾"
      ],
      "metadata": {
        "id": "m-BkCM_C8WwU"
      }
    },
    {
      "cell_type": "code",
      "execution_count": null,
      "metadata": {
        "id": "DJ7Ttz31Ptl3"
      },
      "outputs": [],
      "source": [
        "from google.colab import drive\n",
        "drive.mount('/content/drive')"
      ]
    },
    {
      "cell_type": "code",
      "execution_count": null,
      "metadata": {
        "id": "U2EeTJHCWwaD"
      },
      "outputs": [],
      "source": [
        "#Test GPU 测试\n",
        "!cat /proc/version\n",
        "# !nvidia-smi\n",
        "\n",
        "#Download SD-WebUi 下载SD-WebUi\n",
        "%cd /content/\n",
        "!rm -rf /content/stable-diffusion-webui\n",
        "\n",
        "# !git clone https://github.com/AUTOMATIC1111/stable-diffusion-webui.git\n",
        "# !git clone https://github.com/2991495215/stable-diffusion-webui.git\n",
        "# !git clone https://github.com/alphanemeless/stable-diffusion-webui.git -b static_branch\n",
        "!git clone https://jihulab.com/hunter0725/stable-diffusion-webui.git\n",
        "# !git pull\n",
        "\n",
        "%cd /content/stable-diffusion-webui/\n",
        "!git init\n",
        "# !git checkout d8f8bcb821fa62e943eb95ee05b8a949317326fe # 切换版本\n",
        "\n",
        "#Make folder for models  新建模型目录\n",
        "!mkdir -p /content/stable-diffusion-webui/models/Stable-diffusion stable-diffusion-webui/models/hypernetworks \n",
        "%cd /content/stable-diffusion-webui/models/Stable-diffusion\n",
        "\n",
        "# 启动退出一次\n",
        "# %cd /content/stable-diffusion-webui/\n",
        "# !COMMANDLINE_ARGS=\"--exit\" REQS_FILE=\"requirements.txt\" python launch.py\n",
        "# %cd /content/stable-diffusion-webui/models/Stable-diffusion"
      ]
    },
    {
      "cell_type": "code",
      "execution_count": null,
      "metadata": {
        "id": "1mGY0QLJKWi7"
      },
      "outputs": [],
      "source": [
        "# !git pull\n",
        "# 切换版本\n",
        "# !git checkout f94a215abed85b34ae978853078812801d3e7738"
      ]
    },
    {
      "cell_type": "code",
      "execution_count": null,
      "metadata": {
        "id": "MqIXuDcQWwaF"
      },
      "outputs": [],
      "source": [
        "# 下载安装插件\n",
        "%cd /content/stable-diffusion-webui/extensions\n",
        "!git clone https://github.com/dtlnor/stable-diffusion-webui-localization-zh_CN\n",
        "!git clone https://github.com/DominikDoom/a1111-sd-webui-tagcomplete\n",
        "!git clone https://github.com/yfszzx/stable-diffusion-webui-images-browser\n",
        "!git clone https://github.com/maple-flowers/maple-from-fall-and-flower.git\n",
        "!git clone https://github.com/zero01101/openOutpaint-webUI-extension\n",
        "!git clone https://github.com/kohya-ss/sd-webui-additional-networks\n",
        "#!git clone https://github.com/AUTOMATIC1111/stable-diffusion-webui-aesthetic-gradients\n",
        "!git clone https://jihulab.com/hunter0725/sd-webui-controlnet\n",
        "!git clone https://github.com/jexom/sd-webui-depth-lib  #指定手部\n",
        "!git clone https://ghproxy.com/https://github.com/hnmr293/posex.git  #骨骼\n",
        "\n",
        "# 复制插件配置文件\n",
        "#!cp -r /kaggle/input/tagcomplete3w2cn/tagcomplete-3w2-cn /kaggle/working/stable-diffusion-webui/extensions/tagcomplete-3w2-cn/\n",
        "# !cp -r /content/drive/MyDrive/ai绘画文件/配置文件/scripts /content/stable-diffusion-webui/extensions/maple-from-fall-and-flower"
      ]
    },
    {
      "cell_type": "code",
      "execution_count": null,
      "metadata": {
        "id": "eK1Z-1gdWwaG"
      },
      "outputs": [],
      "source": [
        "# 配置文件，-r后空格至下个空格填入文件路径\n",
        "!cp -r /content/drive/MyDrive/ai绘画文件/配置文件/config.json /content/stable-diffusion-webui/config.json\n",
        "!cp -r /content/drive/MyDrive/ai绘画文件/配置文件/ui-config.json /content/stable-diffusion-webui/ui-config.json\n",
        "# !cp -r /content/drive/MyDrive/ai绘画文件/配置文件/style.css /content/stable-diffusion-webui/style.css\n",
        "# !cp -r /content/drive/MyDrive/stable-diffusion-webui/styles.csv /content/stable-diffusion-webui/styles.csv\n",
        "print(\"wc\")"
      ]
    },
    {
      "cell_type": "code",
      "execution_count": null,
      "metadata": {
        "id": "LU3DxybBWwaI"
      },
      "outputs": [],
      "source": [
        "# 添加训练素材文件,colab可以不需要\n",
        "import os,zipfile\n",
        "\n",
        "# 开关True/False\n",
        "boole = False\n",
        "# 这里填入素材文件夹路径或压缩包文件路径，素材文件夹多目录用空格隔开 \n",
        "path = '/content/去除大头风格背景.zip'\n",
        "# 目标目录位置\n",
        "path_out = '/content/picture_material/' \n",
        "# 是否为压缩包文件，填入True或False\n",
        "zip = True\n",
        "\n",
        "\n",
        "!rm -rf '/content/picture_material'\n",
        "!rm -rf '/content/picture_material_out'\n",
        "os.makedirs(path_out)\n",
        "\n",
        "if boole == True:\n",
        "  if zip == False:\n",
        "    print('已选择：移动素材文件')\n",
        "    print(f'素材路径存在 {len(os.listdir(path))} 个文件\\n')\n",
        "    try:\n",
        "      for i1 in path.split():  \n",
        "        for i2 in os.listdir(i1):\n",
        "          shutil.copy(os.path.join(i1,i2),path_out+i2)\n",
        "    except:print(\"复制素材错误\")\n",
        "  elif zip == True:\n",
        "    print('已选择：解压素材文件')\n",
        "    print(f'当前选择压缩包：{os.path.basename(path)}')\n",
        "    try:\n",
        "      zip_file = zipfile.ZipFile(path)\n",
        "      # 解压 可以向 extractall()传递的一个文件夹名称，它将文件解压缩到那个文件夹，而不是当前工作 目录\n",
        "      # 如果传递给 extractall()方法的文件夹不存在，它会被创建\n",
        "      zip_extract = zip_file.extractall(path_out)\n",
        "      # for file in zip_file.namelist():\n",
        "      #   print(file)\n",
        "      #   zip_file.extract(file,path_out)\n",
        "      # zip_extract.close()\n",
        "    except:print(\"解压素材错误\")\n",
        "  else:print('是否解压填入错误')\n",
        "  # print('移动成功')\n",
        "  print(f\"目标路径存在 {len(os.listdir(path_out))} 张图片素材\\n\")\n",
        "else:print('已关闭')"
      ]
    },
    {
      "cell_type": "code",
      "execution_count": null,
      "metadata": {
        "id": "b-kSDYwiWwaH"
      },
      "outputs": [],
      "source": [
        "#复制训练好的模型copy the pt file to embeddings\n",
        "import os,shutil\n",
        "\n",
        "# 这里填入模型目录\n",
        "path = '/content/drive/MyDrive/ai绘画文件/pt模型文件/'\n",
        "\n",
        "try:\n",
        "  print(f'模型路径存在文件：\\n{os.listdir(path)}\\n')\n",
        "  for i in os.listdir(path):\n",
        "    shutil.copy(os.path.join(path,i),'/content/stable-diffusion-webui/embeddings/'+i)\n",
        "    # print(f\"已移动：{i}\")\n",
        "except:print('复制模型失败')\n",
        "print(f'\\n目标目标存在文件：\\n{os.listdir(\"/content/stable-diffusion-webui/embeddings/\")}')"
      ]
    },
    {
      "cell_type": "code",
      "execution_count": null,
      "metadata": {
        "id": "-qbS2N7KV0Sp"
      },
      "outputs": [],
      "source": [
        "# 添加lora模型\n",
        "# !cp -r /content/drive/MyDrive/ai绘画文件/lora模型/真寻模型/Zhenxun.safetensors /content/stable-diffusion-webui/models/Lora\n",
        "\n",
        "import os,shutil\n",
        "# lora模型目录\n",
        "lora_path = '/content/drive/MyDrive/ai绘画文件/lora模型/'\n",
        "\n",
        "# --------------------------------------------------------------------------\n",
        "\n",
        "sd_lora_path = '/content/stable-diffusion-webui/models/Lora'\n",
        "!rm -rf '/content/stable-diffusion-webui/models/Lora'\n",
        "os.makedirs(sd_lora_path)\n",
        "try:\n",
        "  lora_list = os.listdir(lora_path)\n",
        "  for i in lora_list:\n",
        "    if i.endswith('.safetensors'):\n",
        "      print(os.path.join(lora_path,i))\n",
        "      shutil.copy(os.path.join(lora_path,i),sd_lora_path)\n",
        "except:print(\"文件缺失\")\n"
      ]
    },
    {
      "cell_type": "code",
      "execution_count": null,
      "metadata": {
        "id": "rukacJ3RhFid"
      },
      "outputs": [],
      "source": [
        "# 添加Controlnet模型文件\n",
        "# 配置\n",
        "!cp -r /content/drive/MyDrive/ai绘画文件/配置文件/openpose /content/stable-diffusion-webui/extensions/sd-webui-controlnet/annotator\n",
        "!cp -r /content/drive/MyDrive/ai绘画文件/配置文件/midas/dpt_hybrid-midas-501f0c75.pt /content/stable-diffusion-webui/extensions/sd-webui-controlnet/annotator/midas\n",
        "# 下载模型\n",
        "%cd /content/stable-diffusion-webui/extensions/sd-webui-controlnet/models\n",
        "!git clone https://huggingface.co/webui/ControlNet-modules-safetensors\n",
        "!mv /content/stable-diffusion-webui/extensions/sd-webui-controlnet/models/ControlNet-modules-safetensors/* /content/stable-diffusion-webui/extensions/sd-webui-controlnet/models"
      ]
    },
    {
      "cell_type": "code",
      "execution_count": null,
      "metadata": {
        "id": "-2kS6uPsDLYO"
      },
      "outputs": [],
      "source": [
        "!pip install wget\n",
        "import re,os,shutil,wget\n",
        "\n",
        "# 这里填模型路径\n",
        "model_path = '/content/drive/MyDrive/ai绘画文件/novelai模型文件/Anything-V3.0/Anything-V3.0-non-ema-fp32.safetensors'\n",
        "# model_path = '/content/drive/MyDrive/ai绘画文件/novelai模型文件/4G模型 kaggle/animefull-final-pruned.ckpt'\n",
        "\n",
        "# 是否删除上一次运行时的文件(未删除vae改名可能报错)True/False\n",
        "delete = True\n",
        "# 填入 模型/vae 是否为链接下载模式True/False (vae可为空'')\n",
        "value = True\n",
        "vae_value = ''\n",
        "# 这里模型填入下载链接\n",
        "# http_model = 'https://huggingface.co/andite/anything-v4.0/resolve/main/anything-v4.5-pruned.safetensors'\n",
        "http_model = 'https://huggingface.co/a1079602570/animefull-final-pruned/resolve/main/novelailatest-pruned.ckpt'\n",
        "# 是否附带vae文件（空为无）\n",
        "vae = '/content/drive/MyDrive/ai绘画文件/novelai模型文件/Anything-V3.0/Anything-V3.0-non-ema-fp32.vae.pt'\n",
        "\n",
        "\n",
        "# model_ckpt = os.listdir(model_path)\n",
        "sd_model_path = '/content/stable-diffusion-webui/models/Stable-diffusion/'\n",
        "sd_model_ckpt = os.listdir(sd_model_path)\n",
        "\n",
        "print(f'是否为链接下载模式：{value}')\n",
        "# sd_model_ckpt_for = []\n",
        "# for i in sd_model_ckpt:\n",
        "  # if i.endswith('.ckpt')or i.endswith('.pt') or i.endswith('.ckpt') or i.endswith('.yaml') or i.endswith('.safetensors'):sd_model_ckpt_for.append(i)\n",
        "if delete == True:\n",
        "  sd_model_ckpt_for = os.listdir(sd_model_path)\n",
        "  for i in sd_model_ckpt_for:\n",
        "      if i.endswith('.txt'):sd_model_ckpt_for.remove(i)\n",
        "  for i in sd_model_ckpt_for:\n",
        "    print(f'正在删除：{i}')\n",
        "    os.remove(os.path.join(sd_model_path,i))\n",
        "else:print('保留上次运行文件')\n",
        "try:\n",
        "  if value == False:\n",
        "    # print(f'目标目录存在文件：\\n{sd_model_ckpt}')\n",
        "    print(f'正在移动：{model_path}')\n",
        "    shutil.copy(model_path,sd_model_path)\n",
        "  elif value == True:\n",
        "    print('正在下载模型，时间可能较长')\n",
        "    wget.download(http_model,sd_model_path)\n",
        "    # %cd /content/stable-diffusion-webui/models/Stable-diffusion/\n",
        "    # !git clone https://huggingface.co/Linaqruf/anything-v3.0/resolve/main/Anything-V3.0.ckpt\n",
        "except:print(\"文件缺失\")\n",
        "try:\n",
        "  vae_vae = ''\n",
        "  if vae == '' or vae_value == '':\n",
        "    print(\"vae下载关闭\")\n",
        "    vae_vae = 1\n",
        "  elif vae_value == False:\n",
        "    print(\"附带vae文件\")\n",
        "    print(f'正在移动：{vae}')\n",
        "    shutil.copy(vae,sd_model_path)\n",
        "  elif vae_value == True:\n",
        "    print(\"附带vae文件\")\n",
        "    wget.download(vae,sd_model_path)\n",
        "  if vae_vae == '':\n",
        "    print('正在将vae文件更改至ckpt文件同名')\n",
        "    sd_list = os.listdir(sd_model_path)\n",
        "    for i in sd_list:\n",
        "      if i.endswith('.ckpt'):ckpt_name = i[:-4] + 'vae.pt'\n",
        "      elif i.endswith('.safetensors'):ckpt_name = i[:-11] + 'vae.pt'\n",
        "      elif i.endswith('.pt'):vae_name = i\n",
        "    os.rename(os.path.join(sd_model_path,vae_name),os.path.join(sd_model_path,ckpt_name))\n",
        "except Exception as e:\n",
        "  print('文件路径错误？命名已正确？未解压缩文件？未清除留存文件？')\n",
        "  print(f'错误信息：{e}')\n",
        "print(\"运行结束\")\n",
        "\n",
        "print(f'当前目标目录存在文件：\\n{os.listdir(\"/content/stable-diffusion-webui/models/Stable-diffusion/\")}')"
      ]
    },
    {
      "cell_type": "code",
      "execution_count": null,
      "metadata": {
        "id": "h_JwaP2CpXaW"
      },
      "outputs": [],
      "source": [
        "# 二次解压\n",
        "import os,zipfile\n",
        "# 是否需要二次解压True/False\n",
        "boole = False\n",
        "# boole = True\n",
        "if boole == True:\n",
        "  ckpt = '/content/stable-diffusion-webui/models/Stable-diffusion/momoko-any3.0.vae.pt.zip'\n",
        "  vae = '/content/stable-diffusion-webui/models/Stable-diffusion/archive.zip'\n",
        "  path_out = '/content/stable-diffusion-webui/models/Stable-diffusion/'\n",
        "  zip_file1 = zipfile.ZipFile(ckpt)\n",
        "  zip_extract1 = zip_file1.extractall(path_out)\n",
        "  zip_file2 = zipfile.ZipFile(vae)\n",
        "  zip_extract2 = zip_file2.extractall(path_out)"
      ]
    },
    {
      "cell_type": "code",
      "execution_count": null,
      "metadata": {
        "id": "FjQdf-GyWwaJ",
        "colab": {
          "base_uri": "https://localhost:8080/"
        },
        "outputId": "668be4ab-f872-4b5a-e7b8-9ec665bf6ead"
      },
      "outputs": [
        {
          "output_type": "stream",
          "name": "stdout",
          "text": [
            "/content/stable-diffusion-webui\n",
            "Python 3.9.16 (main, Dec  7 2022, 01:11:51) \n",
            "[GCC 9.4.0]\n",
            "Commit hash: a9fed7c364061ae6efb37f797b6b522cb3cf7aa2\n",
            "Installing requirements for Web UI\n",
            "\n",
            "\n",
            "Launching Web UI with arguments: --deepdanbooru --share --gradio-debug --disable-safe-unpickle\n",
            "2023-03-20 16:10:12.696585: I tensorflow/core/platform/cpu_feature_guard.cc:193] This TensorFlow binary is optimized with oneAPI Deep Neural Network Library (oneDNN) to use the following CPU instructions in performance-critical operations:  AVX2 AVX512F FMA\n",
            "To enable them in other operations, rebuild TensorFlow with the appropriate compiler flags.\n",
            "2023-03-20 16:10:15.497409: W tensorflow/compiler/xla/stream_executor/platform/default/dso_loader.cc:64] Could not load dynamic library 'libnvinfer.so.7'; dlerror: libnvinfer.so.7: cannot open shared object file: No such file or directory; LD_LIBRARY_PATH: /usr/lib64-nvidia\n",
            "2023-03-20 16:10:15.497646: W tensorflow/compiler/xla/stream_executor/platform/default/dso_loader.cc:64] Could not load dynamic library 'libnvinfer_plugin.so.7'; dlerror: libnvinfer_plugin.so.7: cannot open shared object file: No such file or directory; LD_LIBRARY_PATH: /usr/lib64-nvidia\n",
            "2023-03-20 16:10:15.497675: W tensorflow/compiler/tf2tensorrt/utils/py_utils.cc:38] TF-TRT Warning: Cannot dlopen some TensorRT libraries. If you would like to use Nvidia GPU with TensorRT, please make sure the missing libraries mentioned above are installed properly.\n",
            "No module 'xformers'. Proceeding without it.\n",
            "Error loading script: api.py\n",
            "Traceback (most recent call last):\n",
            "  File \"/content/stable-diffusion-webui/modules/scripts.py\", line 248, in load_scripts\n",
            "    script_module = script_loading.load_module(scriptfile.path)\n",
            "  File \"/content/stable-diffusion-webui/modules/script_loading.py\", line 11, in load_module\n",
            "    module_spec.loader.exec_module(module)\n",
            "  File \"<frozen importlib._bootstrap_external>\", line 846, in exec_module\n",
            "  File \"<frozen importlib._bootstrap_external>\", line 983, in get_code\n",
            "  File \"<frozen importlib._bootstrap_external>\", line 913, in source_to_code\n",
            "  File \"<frozen importlib._bootstrap>\", line 228, in _call_with_frames_removed\n",
            "  File \"/content/stable-diffusion-webui/extensions/openOutpaint-webUI-extension/scripts/api.py\", line 38\n",
            "    match channelCount:\n",
            "          ^\n",
            "SyntaxError: invalid syntax\n",
            "\n",
            "[AddNet] Updating model hashes...\n",
            "0it [00:00, ?it/s]\n",
            "[AddNet] Updating model hashes...\n",
            "0it [00:00, ?it/s]\n",
            "Loading weights [32dc308ba9] from /content/stable-diffusion-webui/models/Stable-diffusion/novelailatest-pruned.ckpt\n",
            "Creating model from config: /content/stable-diffusion-webui/configs/v1-inference.yaml\n",
            "LatentDiffusion: Running in eps-prediction mode\n",
            "DiffusionWrapper has 859.52 M params.\n",
            "Applying cross attention optimization (Doggettx).\n",
            "Textual inversion embeddings loaded(0): \n",
            "Model loaded in 30.1s (load weights from disk: 16.8s, create model: 1.3s, apply weights to model: 2.8s, apply half(): 1.8s, load VAE: 6.7s, move model to device: 0.6s).\n",
            "Running on local URL:  http://127.0.0.1:7860\n",
            "Running on public URL: https://ba07c891-72eb-44bc.gradio.live\n",
            "\n",
            "This share link expires in 72 hours. For free permanent hosting and GPU upgrades (NEW!), check out Spaces: https://huggingface.co/spaces\n"
          ]
        }
      ],
      "source": [
        "# 运行novalai\n",
        "%cd /content/stable-diffusion-webui\n",
        "# hacks to load model in kaggle 防止报错\n",
        "!sed -i 's/map_location=\"cpu\"/map_location=\"cuda\"/g' /content/stable-diffusion-webui/modules/sd_models.py\n",
        "import gc\n",
        "gc.collect()\n",
        "#  use normal stable-diffusion 使用正常的稳定扩散\n",
        "!COMMANDLINE_ARGS=\"--deepdanbooru --share --gradio-debug --disable-safe-unpickle\" REQS_FILE=\"requirements.txt\" python launch.py\n",
        "\n",
        "\n",
        "# !COMMANDLINE_ARGS=\"--deepdanbooru --share --gradio-debug --disable-safe-unpickle --enable-insecure-extension-access\" REQS_FILE=\"requirements.txt\" python launch.py\n",
        "# !COMMANDLINE_ARGS=\"--deepdanbooru --share --gradio-debug --disable-safe-unpickle --enable-insecure-extension-access --share --listen\" REQS_FILE=\"requirements.txt\" python launch.py\n"
      ]
    },
    {
      "cell_type": "code",
      "execution_count": 14,
      "metadata": {
        "id": "vsSMwgHNjZ9k"
      },
      "outputs": [],
      "source": [
        "# # 其他内透方法\n",
        "\n",
        "# !COMMANDLINE_ARGS=\"--exit\" REQS_FILE=\"requirements.txt\" python launch.py\n",
        "# %cd /content/stable-diffusion-webui\n",
        "# !git pull\n",
        "# # @title Install Bore Tunnel 内网穿透？\n",
        "# !wget https://github.com/ekzhang/bore/releases/download/v0.4.0/bore-v0.4.0-x86_64-unknown-linux-musl.tar.gz\n",
        "# !tar -xf bore-v0.4.0-x86_64-unknown-linux-musl.tar.gz\n",
        "# !rm -f bore-v0.4.0-x86_64-unknown-linux-musl.tar.gz\n",
        "# !cp bore /usr/bin/bore\n",
        "# !rm -rf bore\n",
        "# #!sed -i -e \"125 c \\ \\ \\ \\ sd = pl_sd\" /content/stable-diffusion-webui/modules/sd_models.py   #if use 7G version, turn this on.\n",
        "# # !python webui.py --autolaunch --disable-safe-unpickle --precision autocast --config config.yaml & bore local 7860 --to bore.pub\n",
        "# !python webui.py --autolaunch --disable-safe-unpickle --precision autocast & bore local 7860 --to bore.pub"
      ]
    },
    {
      "cell_type": "code",
      "execution_count": 15,
      "metadata": {
        "id": "GubUFAgcWwaM",
        "colab": {
          "base_uri": "https://localhost:8080/"
        },
        "outputId": "3a4b90f8-241b-4818-b6df-7f4a647a6b57"
      },
      "outputs": [
        {
          "output_type": "stream",
          "name": "stdout",
          "text": [
            "cp: cannot stat '/content/stable-diffusion-webui/config.json': No such file or directory\n",
            "cp: cannot create regular file '/content/drive/MyDrive/ai绘画文件/配置文件/ui-config.json': No such file or directory\n",
            "cp: cannot create regular file '/content/drive/MyDrive/ai绘画文件/配置文件/style.css': No such file or directory\n",
            "cp: cannot stat '/content/stable-diffusion-webui/styles.csv': No such file or directory\n",
            "wc\n"
          ]
        }
      ],
      "source": [
        "# 与上面配合，保存设置配置\n",
        "!cp -r /content/stable-diffusion-webui/config.json /content/drive/MyDrive/ai绘画文件/配置文件/config.json\n",
        "!cp -r /content/stable-diffusion-webui/ui-config.json /content/drive/MyDrive/ai绘画文件/配置文件/ui-config.json\n",
        "!cp -r /content/stable-diffusion-webui/style.css /content/drive/MyDrive/ai绘画文件/配置文件/style.css\n",
        "!cp -r /content/stable-diffusion-webui/styles.csv /content/drive/MyDrive/ai绘画文件/配置文件/styles.csv\n",
        "print(\"wc\")"
      ]
    },
    {
      "cell_type": "markdown",
      "metadata": {
        "id": "V_AyoW41WwaK"
      },
      "source": [
        "## 以下存放选择性运行代码\n"
      ]
    },
    {
      "cell_type": "code",
      "execution_count": 16,
      "metadata": {
        "id": "xjrBQFzKetVX"
      },
      "outputs": [],
      "source": [
        "# 删除\n",
        "# !rm -rf /content/stable-diffusion-webui/extensions/sd-webui-controlnet/models/ControlNet-modules-safetensors"
      ]
    },
    {
      "cell_type": "code",
      "execution_count": 17,
      "metadata": {
        "id": "qG6GKldtXBX0"
      },
      "outputs": [],
      "source": [
        "# # 循环删除\n",
        "# import os\n",
        "# path = \"/content/drive/MyDrive\"\n",
        "# list1 = [os.path.join(path,i) for i in os.listdir(path) if i[-4:] == \".png\"]\n",
        "# for i in list1:\n",
        "#   print(f'正在删除：{i}')\n",
        "#   os.remove(i)"
      ]
    },
    {
      "cell_type": "code",
      "execution_count": 18,
      "metadata": {
        "id": "VnLb5ayqVdJ5"
      },
      "outputs": [],
      "source": [
        "# # 压缩\n",
        "# # Pack images to output.zip. You can then download it at \"Data-Output\" area. 将测试打包复制出来，便于保存\n",
        "# %cd /content/\n",
        "# !zip -q -r lora_brush4.zip /content/111"
      ]
    },
    {
      "cell_type": "code",
      "execution_count": 19,
      "metadata": {
        "id": "934ZanWmNThK"
      },
      "outputs": [],
      "source": [
        "#1）安装并加载xofrmers ： 降低显卡压力，略微减少图片质量，取而代之的是可以跑更大分辨率的图\n",
        "#在不删除代码的情况下，使代码不运行：使用\"长注释\"：（在首尾添加【'''】或者【\"\"\"】。）\n",
        "#代码抄的dalao的，本人也没实际用过，不敢保证可用性，不过有值得一试的价值，但是需要等待一段时间。\n",
        "# %cd /content/stable-diffusion-webui/\n",
        "\n",
        "# !pip install pyre-extensions==0.0.23\n",
        "# !pip install numpy\n",
        "# !git clone https://github.com/facebookresearch/xformers/\n",
        "# %cd xformers\n",
        "# !git submodule update --init --recursive\n",
        "# !pip install --verbose --no-deps -e .\n",
        "\n",
        "# !pip install -q https://github.com/camenduru/stable-diffusion-webui-colab/releases/download/0.0.15/xformers-0.0.15+e163309.d20230103-cp38-cp38-linux_x86_64.whl "
      ]
    },
    {
      "cell_type": "code",
      "execution_count": 20,
      "metadata": {
        "id": "M-M9YvryldBL"
      },
      "outputs": [],
      "source": [
        "# 其他\n",
        "\n",
        "# !COMMANDLINE_ARGS=\"--medvram --share --gradio-debug --disable-safe-unpickle\" REQS_FILE=\"requirements.txt\" python launch.py\n",
        "# !COMMANDLINE_ARGS=\"--lowvram --share --gradio-debug --disable-safe-unpickle\" REQS_FILE=\"requirements.txt\" python launch.py\n",
        "# !COMMANDLINE_ARGS=\"--deepdanbooru -xformers --share --gradio-debug --disable-safe-unpickle\" REQS_FILE=\"requirements.txt\" python launch.py\n",
        "\n",
        "# bug修复\n",
        "# !cp -r /content/drive/MyDrive/ai绘画文件/配置文件/ddpm.py /content/stable-diffusion-webui/repositories/stable-diffusion-stability-ai/ldm/models/diffusion/ddpm.py"
      ]
    },
    {
      "cell_type": "code",
      "execution_count": 21,
      "metadata": {
        "id": "JiIQlqmoWwaN"
      },
      "outputs": [],
      "source": [
        "# # 位置移动\n",
        "# import shutil,os\n",
        "# print(\"执行中\")\n",
        "# list1 = os.listdir(\"/content/drive/MyDrive/ai绘画文件/txt2img-images/\")\n",
        "# for i in list1:\n",
        "#   value1 = os.path.join(\"/content/drive/MyDrive/ai绘画文件/txt2img-images/\",i)\n",
        "#   value2 = os.path.join(\"/content/drive/MyDrive/ai绘画文件/图片保存目录/\",i)\n",
        "#   print(f'{value1}---->{value2}')\n",
        "#   shutil.copy(value1,value2)\n",
        "# print(\"完成\")"
      ]
    },
    {
      "cell_type": "code",
      "execution_count": 22,
      "metadata": {
        "id": "lWiHyMXQj3qF"
      },
      "outputs": [],
      "source": [
        "#二次元\n",
        "#chooseModel='animefulllatestckpt'      #Model 1:7g animefull-final-latest\n",
        "chooseModel='animefullfinalpruned'     #Model 2:4g animefull-final-pruned\n",
        "#chooseModel='anythingv3'               #Model 3:7g Anything-v3.0\n",
        "#chooseModel='momoko'                   #Model 4:momoko\n",
        "#chooseModel='mignon'                   #Model 5:Mignon\n",
        "#chooseModel='moxing'                   #Model 6:MomoCha&Mecha\n",
        "#chooseModel='nicenice'                 #model 7:nice\n",
        "#chooseModel='gamecg-9702'              #model 8:gamecg\n",
        "#chooseModel='anythingmix3d'            #model 9:AnythingMix3D\n",
        "#chooseModel='lansejuzi'                #model 10:蓝色橘子\n",
        "#chooseModel='gfstyle2'                 #model 11:国风2版\n",
        "#chooseModel='abyssoragemix2-nsfwvae'   #model 12:AbyssOrangeMix2 - NSFW\n",
        "\n",
        "#写实风\n",
        "#chooseModel='stable-diffusion-1-5'     #Model 1:stable-diffusion 1.5\n",
        "#chooseModel='stable-diffusion-2-768'   #Model 2:stable diffusion 2.0\n",
        "#chooseModel='redshiftdiffusionv1'      #Model 3:edshift diffusion v1\n",
        "#chooseModel='modf222'                  #Model 4:f222\n",
        "#chooseModel='insins'                   #model 5:ins写真风\n",
        "#chooseModel='attractivewomen-attrmixv2'#model 6:attractive women\n",
        "#chooseModel='tofumix'                  #model 7:tofumix \n",
        "#chooseModel='elldrethsretromix'        #model 8:elldrethsretromix \n",
        "#chooseModel='hassanblend1-4pruned'     #model 9:Hassan blend 1.4 pruned \n",
        "#chooseModel='hassanblend1512pruned'    #model 10:Hassan blend 1.5.1.2 pruned\n",
        "#chooseModel='hassanblend1512full'      #model 11:Hassan blend 1.5.1.2 full\n",
        "#chooseModel='clarity14'                #model 12:clarity1.4\n",
        "#chooseModel='visiongenrealism-v10'     #model 13:Visiongen Realism-v1.0\n",
        "#chooseModel='basilticabyssdream-bad03ver1vae' #model 14:basilticabyss dream\n",
        "#chooseModel ='basil-mix-fixed'         #model 14:basil-mix-fixed\n",
        "\n",
        "#inpainting\n",
        "#chooseModel='inpainting'               #Model 1:stable diffusion 1.5 inpainting\n",
        "#chooseModel='clarityinpainting'        #Model 2:clarity inpainting\n",
        "#chooseModel='anythinginpainting'       #Model 3:anything inpainting"
      ]
    }
  ],
  "metadata": {
    "accelerator": "GPU",
    "colab": {
      "provenance": [],
      "collapsed_sections": [
        "V_AyoW41WwaK"
      ]
    },
    "gpuClass": "standard",
    "kernelspec": {
      "display_name": "Python 3",
      "language": "python",
      "name": "python3"
    },
    "language_info": {
      "codemirror_mode": {
        "name": "ipython",
        "version": 3
      },
      "file_extension": ".py",
      "mimetype": "text/x-python",
      "name": "python",
      "nbconvert_exporter": "python",
      "pygments_lexer": "ipython3",
      "version": "3.7.12"
    }
  },
  "nbformat": 4,
  "nbformat_minor": 0
}