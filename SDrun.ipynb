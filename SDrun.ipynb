{
  "cells": [
    {
      "cell_type": "code",
      "execution_count": null,
      "metadata": {
        "colab": {
          "background_save": true
        },
        "id": "H_C9XPDa61yi"
      },
      "outputs": [],
      "source": [
        "import os\n",
        "import sys\n",
        "import base64\n",
        "blasphemy=base64.b64decode((\"d2VidWk=\").encode('ascii')).decode('ascii')\n",
        "from google.colab import drive\n",
        "drive.mount('/content/drive')\n",
        "\n",
        "%cd /content\n",
        "\n",
        "%env PYTHONDONTWRITEBYTECODE=1\n",
        "%env TF_CPP_MIN_LOG_LEVEL=1\n",
        "\n",
        "\n",
        "!apt -y update -qq\n",
        "!wget http://launchpadlibrarian.net/367274644/libgoogle-perftools-dev_2.5-2.2ubuntu3_amd64.deb\n",
        "!wget https://launchpad.net/ubuntu/+source/google-perftools/2.5-2.2ubuntu3/+build/14795286/+files/google-perftools_2.5-2.2ubuntu3_all.deb\n",
        "!wget https://launchpad.net/ubuntu/+source/google-perftools/2.5-2.2ubuntu3/+build/14795286/+files/libtcmalloc-minimal4_2.5-2.2ubuntu3_amd64.deb\n",
        "!wget https://launchpad.net/ubuntu/+source/google-perftools/2.5-2.2ubuntu3/+build/14795286/+files/libgoogle-perftools4_2.5-2.2ubuntu3_amd64.deb\n",
        "!apt install -qq libunwind8-dev\n",
        "!dpkg -i *.deb\n",
        "%env LD_PRELOAD=libtcmalloc.so\n",
        "!rm *.deb\n",
        "\n",
        "\n",
        "#配置GPU\n",
        "!apt -y install -qq aria2\n",
        "!apt -y install -qq unionfs-fuse\n",
        "!apt -y install -qq aria2\n",
        "!pip install -q torch==2.0.0+cu118 torchvision==0.15.1+cu118 torchaudio==2.0.1+cu118 torchtext==0.15.1 torchdata==0.6.0 --extra-index-url https://download.pytorch.org/whl/cu118 -U\n",
        "!pip install -q xformers==0.0.18 triton==2.0.0 -U\n",
        "\n",
        "!mkdir /content/fused-models\n",
        "!mkdir /content/models\n",
        "!mkdir /content/fused-lora\n",
        "!mkdir /content/lora\n",
        "!unionfs-fuse /content/drive/MyDrive/stable-diffusion-$blasphemy-colab/stable-diffusion-$blasphemy/models/Stable-diffusion=RW:/content/models=RW /content/fused-models\n",
        "!unionfs-fuse /content/drive/MyDrive/stable-diffusion-$blasphemy-colab/stable-diffusion-$blasphemy/extensions/sd-$blasphemy-additional-networks/models/lora=RW:/content/drive/MyDrive/stable-diffusion-$blasphemy-colab/stable-diffusion-$blasphemy/models/Lora=RW:/content/lora=RW /content/fused-lora\n",
        "\n",
        "%cd /content/drive/MyDrive/stable-diffusion-$blasphemy-colab/stable-diffusion-$blasphemy\n",
        "\n",
        "!git reset --hard\n",
        "!git -C /content/drive/MyDrive/stable-diffusion-$blasphemy-colab/stable-diffusion-$blasphemy/repositories/stable-diffusion-stability-ai reset --hard\n",
        "!git -C /content/drive/MyDrive/stable-diffusion-$blasphemy-colab/stable-diffusion-$blasphemy/extensions/sd-$blasphemy-tunnels reset --hard\n",
        "!git -C /content/drive/MyDrive/stable-diffusion-$blasphemy-colab/stable-diffusion-$blasphemy/extensions/sd-$blasphemy-tunnels pull\n",
        "\n",
        "\n",
        "!sed -i -e '''/    prepare_environment()/a\\    os.system\\(f\\\"\"\"sed -i -e ''\\\"s/dict()))/dict())).cuda()/g\\\"'' /content/drive/MyDrive/stable-diffusion-$blasphemy-colab/stable-diffusion-$blasphemy/repositories/stable-diffusion-stability-ai/ldm/util.py\"\"\")''' /content/drive/MyDrive/stable-diffusion-$blasphemy-colab/stable-diffusion-$blasphemy/launch.py\n",
        "!sed -i -e 's/checkout {commithash}/checkout --force {commithash}/g' /content/drive/MyDrive/stable-diffusion-$blasphemy-colab/stable-diffusion-$blasphemy/launch.py\n",
        "\n",
        "\n",
        "!aria2c --console-log-level=error -c -x 16 -s 16 -k 1M https://openaipublic.azureedge.net/clip/models/b8cca3fd41ae0c99ba7e8951adf17d267cdb84cd88be6f7c2e0eca1737a03836/ViT-L-14.pt -d /content/drive/MyDrive/stable-diffusion-$blasphemy-colab/stable-diffusion-$blasphemy/models/CLIP -o ViT-L-14.pt\n",
        "\n",
        "# Monday, May 1, 2023 - We have a new update. Please use the \"One Time Install & Update\" Colab.\n",
        "!python launch.py --listen --xformers --enable-insecure-extension-access --theme dark --gradio-queue --clip-models-path /content/drive/MyDrive/stable-diffusion-$blasphemy-colab/stable-diffusion-$blasphemy/models/CLIP --ckpt-dir /content/fused-models --lora-dir /content/fused-lora --multiple\n"
      ]
    },
    {
      "cell_type": "code",
      "execution_count": null,
      "metadata": {
        "id": "v2LCOP1wE4gJ"
      },
      "outputs": [],
      "source": [
        "#colab防掉线代码：（Ctrl+Shift+i）\n",
        "function ClickConnect(){\n",
        "  console.log(\"Working\"); \n",
        "  document\n",
        "    .querySelector(\"#top-toolbar > colab-connect-button\")\n",
        "    .shadowRoot\n",
        "    .querySelector(\"#connect\")\n",
        "    .click()\n",
        "}\n",
        " \n",
        "var id=setInterval(ClickConnect,1*60000)   //1分钟点一次，改变频率把1换成其他数即可，单位分钟\n",
        " \n",
        " \n",
        "#要提前停止，请输入运行以下代码：    clearInterval(id)"
      ]
    }
  ],
  "metadata": {
    "accelerator": "GPU",
    "colab": {
      "provenance": []
    },
    "gpuClass": "standard",
    "kernelspec": {
      "display_name": "Python 3",
      "name": "python3"
    },
    "language_info": {
      "name": "python"
    }
  },
  "nbformat": 4,
  "nbformat_minor": 0
}